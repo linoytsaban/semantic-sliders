{
 "cells": [
  {
   "cell_type": "markdown",
   "source": [
    "# SD"
   ],
   "metadata": {
    "collapsed": false
   },
   "id": "4d1d16a68410c266"
  },
  {
   "cell_type": "code",
   "execution_count": null,
   "outputs": [],
   "source": [
    "from clip_slider_pipeline import CLIPSlider\n",
    "from diffusers import StableDiffusionPipeline\n",
    "import torch\n",
    "pipe = StableDiffusionPipeline.from_pretrained(\"runwayml/stable-diffusion-v1-5\").to(torch.float16)\n",
    "slider = CLIPSlider(sd_pipe=pipe, \n",
    "                    device=torch.device(\"cuda:0\" if torch.cuda.is_available()),\n",
    "                    target_word=\"happy\",\n",
    "                    opposite=\"sad\")"
   ],
   "metadata": {
    "collapsed": false
   },
   "id": "c3e02c1bb84ee0d2"
  },
  {
   "cell_type": "code",
   "execution_count": null,
   "outputs": [],
   "source": [
    "scale = 2\n",
    "slider.spectrum(prompt=\"a house\",low_scale=-scale, high_scale=scale, steps=5, seed=0)"
   ],
   "metadata": {
    "collapsed": false
   },
   "id": "e26ba850256ee9ee"
  },
  {
   "cell_type": "markdown",
   "source": [
    "# SDXL"
   ],
   "metadata": {
    "collapsed": false
   },
   "id": "56ca76675100d92e"
  },
  {
   "cell_type": "code",
   "execution_count": null,
   "outputs": [],
   "source": [
    "from clip_slider_pipeline import CLIPSliderXL\n",
    "from diffusers import StableDiffusionXLPipeline, AutoencoderKL\n",
    "import torch\n",
    "vae = AutoencoderKL.from_pretrained(\"madebyollin/sdxl-vae-fp16-fix\", torch_dtype=torch.float16)\n",
    "pipe = StableDiffusionXLPipeline.from_pretrained(\n",
    "    \"stabilityai/stable-diffusion-xl-base-1.0\", torch_dtype=torch.float16, vae=vae,\n",
    ")\n",
    "slider_xl = CLIPSliderXL(sd_pipe=pipe, \n",
    "                    device=torch.device(\"cuda:0\" if torch.cuda.is_available()),\n",
    "                    target_word=\"happy\",\n",
    "                    opposite=\"sad\")"
   ],
   "metadata": {
    "collapsed": false
   },
   "id": "5d87013a3e88ebee"
  },
  {
   "cell_type": "code",
   "execution_count": null,
   "outputs": [],
   "source": [
    "scale = 2\n",
    "slider_xl.spectrum(prompt=\"a house\",low_scale=-scale, high_scale=scale, steps=5, seed=0)"
   ],
   "metadata": {
    "collapsed": false
   },
   "id": "c39f4f57c6d633e2"
  },
  {
   "cell_type": "markdown",
   "source": [
    "# SDXL Flash"
   ],
   "metadata": {
    "collapsed": false
   },
   "id": "49685ac392aaf9d0"
  },
  {
   "cell_type": "code",
   "execution_count": null,
   "outputs": [],
   "source": [
    "import torch\n",
    "from clip_slider_pipeline import CLIPSliderXL\n",
    "from diffusers import StableDiffusionXLPipeline, EulerDiscreteScheduler\n",
    "from diffusers.utils import make_image_grid\n",
    "\n",
    "pipe = StableDiffusionXLPipeline.from_pretrained(\"sd-community/sdxl-flash\").to(\"cuda\", torch.float16)\n",
    "pipe.scheduler = EulerDiscreteScheduler.from_config(pipe.scheduler.config)\n",
    "\n",
    "flash_slider = CLIPSliderXL(sd_pipe=pipe, \n",
    "                    device=torch.device(\"cuda\"),\n",
    "                    target_word=\"happy\",\n",
    "                    opposite=\"sad\")"
   ],
   "metadata": {
    "collapsed": false
   },
   "id": "cfdc18132144d3eb"
  },
  {
   "cell_type": "code",
   "execution_count": null,
   "outputs": [],
   "source": [
    "scale = 2\n",
    "flash_slider.spectrum(prompt=\"a house\",low_scale=-scale, high_scale=scale, steps=5, seed=0)"
   ],
   "metadata": {
    "collapsed": false
   },
   "id": "f9bddad6dbeaeb83"
  },
  {
   "cell_type": "markdown",
   "source": [
    "# SDXL & IP Adapter"
   ],
   "metadata": {
    "collapsed": false
   },
   "id": "ffab3cd50b12fa05"
  },
  {
   "cell_type": "code",
   "execution_count": null,
   "outputs": [],
   "source": [
    "import torch\n",
    "from clip_slider_pipeline import CLIPSliderXL\n",
    "from diffusers import StableDiffusionXLPipeline, EulerDiscreteScheduler\n",
    "from diffusers.utils import make_image_grid, load_image\n",
    "\n",
    "pipe = StableDiffusionXLPipeline.from_pretrained(\"sd-community/sdxl-flash\").to(\"cuda\", torch.float16)\n",
    "pipe.scheduler = EulerDiscreteScheduler.from_config(pipe.scheduler.config)\n",
    "\n",
    "# load IP Adapter\n",
    "pipe.load_ip_adapter(\"h94/IP-Adapter\", subfolder=\"sdxl_models\", weight_name=\"ip-adapter_sdxl.bin\")\n",
    "scale = 0.8\n",
    "pipe.set_ip_adapter_scale(scale)\n",
    "\n",
    "flash_slider = CLIPSliderXL(sd_pipe=pipe, \n",
    "                    device=torch.device(\"cuda\"),\n",
    "                    target_word=\"happy\",\n",
    "                    opposite=\"sad\")\n",
    "\n"
   ],
   "metadata": {
    "collapsed": false
   },
   "id": "7fe70378eef4c41e"
  },
  {
   "cell_type": "code",
   "execution_count": null,
   "outputs": [],
   "source": [
    "url = \"https://huggingface.co/datasets/huggingface/documentation-images/resolve/main/diffusers/img2img-sdxl-init.png\"\n",
    "image = load_image(url)\n",
    "\n",
    "scale = 2\n",
    "grid = flash_slider.spectrum(prompt=\"a house\",low_scale=-scale, high_scale=scale, steps=5,\n",
    "                             ip_adapter_image=image, \n",
    "                             num_inference_steps=10,\n",
    "                             seed=0)"
   ],
   "metadata": {
    "collapsed": false
   },
   "id": "451fb4adf0a8601f"
  },
  {
   "cell_type": "markdown",
   "source": [
    "# SDXL ControlNet"
   ],
   "metadata": {
    "collapsed": false
   },
   "id": "3f7e7673819b026e"
  },
  {
   "cell_type": "code",
   "execution_count": null,
   "outputs": [],
   "source": [
    "import torch\n",
    "import random\n",
    "from clip_slider_pipeline import CLIPSliderXL\n",
    "from tqdm import tqdm\n",
    "from controlnet_aux import PidiNetDetector, HEDdetector\n",
    "from diffusers import ControlNetModel, StableDiffusionXLControlNetPipeline, AutoencoderKL\n",
    "from diffusers.utils import make_image_grid, load_image\n",
    "import numpy as np\n",
    "import cv2\n",
    "from PIL import Image\n",
    "\n",
    "controlnet = ControlNetModel.from_pretrained(\n",
    "    \"xinsir/controlnet-scribble-sdxl-1.0\", # insert here your choice of controlnet\n",
    "    torch_dtype=torch.float16\n",
    ")\n",
    "vae = AutoencoderKL.from_pretrained(\"madebyollin/sdxl-vae-fp16-fix\", torch_dtype=torch.float16)\n",
    "pipe = StableDiffusionXLControlNetPipeline.from_pretrained(\n",
    "    \"sd-community/sdxl-flash\",\n",
    "    controlnet=controlnet,\n",
    "    vae=vae,\n",
    "    torch_dtype=torch.float16,\n",
    ")\n",
    "\n",
    "flash_slider = CLIPSliderXL(sd_pipe=pipe, \n",
    "                    device=torch.device(\"cuda\"),\n",
    "                    target_word=\"happy\",\n",
    "                    opposite=\"sad\")\n",
    "\n",
    "processor = HEDdetector.from_pretrained('lllyasviel/Annotators')\n",
    "def nms(x, t, s):\n",
    "    x = cv2.GaussianBlur(x.astype(np.float32), (0, 0), s)\n",
    "\n",
    "    f1 = np.array([[0, 0, 0], [1, 1, 1], [0, 0, 0]], dtype=np.uint8)\n",
    "    f2 = np.array([[0, 1, 0], [0, 1, 0], [0, 1, 0]], dtype=np.uint8)\n",
    "    f3 = np.array([[1, 0, 0], [0, 1, 0], [0, 0, 1]], dtype=np.uint8)\n",
    "    f4 = np.array([[0, 0, 1], [0, 1, 0], [1, 0, 0]], dtype=np.uint8)\n",
    "\n",
    "    y = np.zeros_like(x)\n",
    "\n",
    "    for f in [f1, f2, f3, f4]:\n",
    "        np.putmask(y, cv2.dilate(x, kernel=f) == x, x)\n",
    "\n",
    "    z = np.zeros_like(y, dtype=np.uint8)\n",
    "    z[y > t] = 255\n",
    "    return z\n"
   ],
   "metadata": {
    "collapsed": false
   },
   "id": "544cfc5450bc697a"
  },
  {
   "cell_type": "code",
   "execution_count": null,
   "outputs": [],
   "source": [
    "image = load_image(\"flower.jpg\")\n",
    "controlnet_img = processor(image, scribble=False)\n",
    "# following is some processing to simulate human sketch draw, different threshold can generate different width of lines\n",
    "controlnet_img = np.array(controlnet_img)\n",
    "controlnet_img = nms(controlnet_img, 127, 3)\n",
    "controlnet_img = cv2.GaussianBlur(controlnet_img, (0, 0), 3)\n",
    "\n",
    "# higher threshold, thiner line\n",
    "random_val = int(round(random.uniform(0.01, 0.10), 2) * 255)\n",
    "controlnet_img[controlnet_img > random_val] = 255\n",
    "controlnet_img[controlnet_img < 255] = 0\n",
    "image = Image.fromarray(controlnet_img)\n",
    "\n",
    "scale = 2\n",
    "grid = flash_slider.spectrum(prompt=\"a house\",low_scale=-scale, high_scale=scale, steps=5,\n",
    "                             image=image, \n",
    "                             controlnet_conditioning_scale = 0.5,\n",
    "                             num_inference_steps=8,\n",
    "                             seed=0)"
   ],
   "metadata": {
    "collapsed": false
   },
   "id": "77be16322b4be601"
  },
  {
   "cell_type": "markdown",
   "source": [
    "# SD 3"
   ],
   "metadata": {
    "collapsed": false
   },
   "id": "b64e38ed01216203"
  },
  {
   "cell_type": "code",
   "execution_count": null,
   "outputs": [],
   "source": [
    "import torch\n",
    "from diffusers import , StableDiffusion3Pipeline\n",
    "from clip_slider_pipeline  import CLIPSlider3\n",
    "\n",
    "pipe = StableDiffusion3Pipeline.from_pretrained(\"stabilityai/stable-diffusion-3-medium-diffusers\", torch_dtype=torch.float16)\n",
    "slider3 = CLIPSlider3(sd_pipe=pipe, \n",
    "                    device=torch.device(\"cuda\"),\n",
    "                    target_word=\"happy\",\n",
    "                    opposite=\"sad\")"
   ],
   "metadata": {
    "collapsed": false
   },
   "id": "6c047fd7a071ba63"
  },
  {
   "cell_type": "code",
   "execution_count": null,
   "outputs": [],
   "source": [
    "slider3(prompt=\"a house\",low_scale=-scale, high_scale=scale, steps=5, seed=0)"
   ],
   "metadata": {
    "collapsed": false
   },
   "id": "85c13807583875dc"
  }
 ],
 "metadata": {
  "kernelspec": {
   "display_name": "Python 3",
   "language": "python",
   "name": "python3"
  },
  "language_info": {
   "codemirror_mode": {
    "name": "ipython",
    "version": 2
   },
   "file_extension": ".py",
   "mimetype": "text/x-python",
   "name": "python",
   "nbconvert_exporter": "python",
   "pygments_lexer": "ipython2",
   "version": "2.7.6"
  }
 },
 "nbformat": 4,
 "nbformat_minor": 5
}
